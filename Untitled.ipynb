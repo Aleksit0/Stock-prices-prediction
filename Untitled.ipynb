{
 "cells": [
  {
   "cell_type": "code",
   "execution_count": 19,
   "id": "ab428548",
   "metadata": {},
   "outputs": [],
   "source": [
    "import numpy as np\n",
    "import smtplib\n",
    "import time\n",
    "from datetime import datetime\n",
    "from selenium import webdriver\n",
    "from sklearn.linear_model import LinearRegression\n",
    "from sklearn import preprocessing, svm\n",
    "from sklearn.model_selection import train_test_split\n",
    "from iexfinance.stocks import Stock, get_historical_data"
   ]
  },
  {
   "cell_type": "code",
   "execution_count": 57,
   "id": "a9c77737",
   "metadata": {},
   "outputs": [],
   "source": [
    "# CHROMEDRIVER V92\n",
    "\n",
    "def get_stocks(n):\n",
    "    driver = webdriver.Chrome('C:\\chromedriver.exe')\n",
    "    url = \"https://finance.yahoo.com/screener/predefined/aggressive_small_caps?offset=0&count=202\"\n",
    "    driver.get(url)\n",
    "    \n",
    "    stock_list = []\n",
    "    n += 1\n",
    "    \n",
    "    for i in range(1, n):\n",
    "        # TICKER = STOCK(share) SYMBOL\n",
    "        ticker = driver.find_element_by_xpath('//*[@id=\"scr-res-table\"]/div[1]/table/tbody/tr[' + str(i) + ']/td[1]/a')\n",
    "        stock_list.append(ticker.text)\n",
    "    driver.quit()\n",
    "        \n",
    "    num = 0\n",
    "    \n",
    "    for i in stock_list:\n",
    "        print(\"Number: \" + str(num))\n",
    "        try:\n",
    "            predictData(i, 5)\n",
    "        except:\n",
    "            print(\"Stock: \" + i + \" was not yet predicted.\")\n",
    "        num += 1"
   ]
  },
  {
   "cell_type": "code",
   "execution_count": 2,
   "id": "6a841ebf",
   "metadata": {},
   "outputs": [],
   "source": [
    "# SEND INFO TO USER\n",
    "\n",
    "def send_info(msg):\n",
    "    pass"
   ]
  },
  {
   "cell_type": "code",
   "execution_count": 3,
   "id": "40bd931d",
   "metadata": {},
   "outputs": [
    {
     "ename": "SyntaxError",
     "evalue": "invalid syntax (<ipython-input-3-40cf0076c6a0>, line 11)",
     "output_type": "error",
     "traceback": [
      "\u001b[1;36m  File \u001b[1;32m\"<ipython-input-3-40cf0076c6a0>\"\u001b[1;36m, line \u001b[1;32m11\u001b[0m\n\u001b[1;33m    if os.path.exists('./Exports':)\u001b[0m\n\u001b[1;37m                                 ^\u001b[0m\n\u001b[1;31mSyntaxError\u001b[0m\u001b[1;31m:\u001b[0m invalid syntax\n"
     ]
    }
   ],
   "source": [
    "# TRAIN DATA\n",
    "\n",
    "def predict_stock(stock, days):\n",
    "    print(stock)\n",
    "    \n",
    "    start = datetime(2020, 1, 1)\n",
    "    end = datetime.now()\n",
    "    \n",
    "    df = get_historical_data(stock, start = start, end = end, output_format = 'pandas')\n",
    "    \n",
    "    if os.path.exists('./Exports'):\n",
    "        csv_name = ('Exports/' + stock + '_Export.csv')\n",
    "    else:\n",
    "        os.mkdir(\"Exports\")\n",
    "        csv_name = ('Exports/' + stock + '_Export.csv')\n",
    "        \n",
    "    df.to_csv(csv_name)\n",
    "    df['prediction'] = df['close'].shift(-1)\n",
    "    df.dropna(inplace = True)"
   ]
  },
  {
   "cell_type": "code",
   "execution_count": null,
   "id": "5be0ae25",
   "metadata": {},
   "outputs": [],
   "source": []
  },
  {
   "cell_type": "code",
   "execution_count": 58,
   "id": "d531bd5f",
   "metadata": {},
   "outputs": [
    {
     "name": "stdout",
     "output_type": "stream",
     "text": [
      "Number: 0\n",
      "Stock: WPG was not yet predicted.\n",
      "Number: 1\n",
      "Stock: KOS was not yet predicted.\n",
      "Number: 2\n",
      "Stock: FSM was not yet predicted.\n",
      "Number: 3\n",
      "Stock: CNK was not yet predicted.\n",
      "Number: 4\n",
      "Stock: REAL was not yet predicted.\n",
      "Number: 5\n",
      "Stock: PBF was not yet predicted.\n",
      "Number: 6\n",
      "Stock: KNDI was not yet predicted.\n",
      "Number: 7\n",
      "Stock: LX was not yet predicted.\n",
      "Number: 8\n",
      "Stock: CENX was not yet predicted.\n",
      "Number: 9\n",
      "Stock: MCRB was not yet predicted.\n",
      "Number: 10\n",
      "Stock: BEST was not yet predicted.\n",
      "Number: 11\n",
      "Stock: SVC was not yet predicted.\n",
      "Number: 12\n",
      "Stock: DBI was not yet predicted.\n",
      "Number: 13\n",
      "Stock: HTGC was not yet predicted.\n",
      "Number: 14\n",
      "Stock: SAND was not yet predicted.\n",
      "Number: 15\n",
      "Stock: DNMR was not yet predicted.\n",
      "Number: 16\n",
      "Stock: LBRT was not yet predicted.\n",
      "Number: 17\n",
      "Stock: BRMK was not yet predicted.\n",
      "Number: 18\n",
      "Stock: ORPH was not yet predicted.\n",
      "Number: 19\n",
      "Stock: HYLN was not yet predicted.\n"
     ]
    }
   ],
   "source": [
    "get_stocks(20)"
   ]
  },
  {
   "cell_type": "code",
   "execution_count": null,
   "id": "e6e6e3a7",
   "metadata": {},
   "outputs": [],
   "source": []
  }
 ],
 "metadata": {
  "kernelspec": {
   "display_name": "Python 3",
   "language": "python",
   "name": "python3"
  },
  "language_info": {
   "codemirror_mode": {
    "name": "ipython",
    "version": 3
   },
   "file_extension": ".py",
   "mimetype": "text/x-python",
   "name": "python",
   "nbconvert_exporter": "python",
   "pygments_lexer": "ipython3",
   "version": "3.8.3"
  }
 },
 "nbformat": 4,
 "nbformat_minor": 5
}
