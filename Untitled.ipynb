{
 "cells": [
  {
   "cell_type": "code",
   "execution_count": null,
   "id": "ab428548",
   "metadata": {},
   "outputs": [],
   "source": [
    "import numpy as np\n",
    "import smtplib\n",
    "import time\n",
    "from datetime import datetime\n",
    "from selenium import webdriver\n",
    "from sklearn.linear_model import LinearRegression\n",
    "from sklearn import preprocessing, svm\n",
    "from sklearn.model_selection import train_test_split\n",
    "from iexfinance.stocks import Stock, get_historical_data"
   ]
  },
  {
   "cell_type": "code",
   "execution_count": null,
   "id": "a9c77737",
   "metadata": {},
   "outputs": [],
   "source": [
    "# CHROMEDRIVER V92\n",
    "\n",
    "def get_stocks(n):\n",
    "    driver = webdriver.Chrome('C:\\chromedriver.exe')\n",
    "    url = \"https://finance.yahoo.com/screener/predefined/aggressive_small_caps?offset=0&count=202\"\n",
    "    driver.get(url)\n",
    "    \n",
    "    stock_list = []\n",
    "    n += 1\n",
    "    \n",
    "    for i in range(1, n):\n",
    "        # TICKER = STOCK(share) SYMBOL\n",
    "        ticker = driver.find_element_by_xpath('//*[@id=\"scr-res-table\"]/div[1]/table/tbody/tr[' + str(i) + ']/td[1]/a')\n",
    "        stock_list.append(ticker.text)\n",
    "    driver.quit()\n",
    "        \n",
    "    num = 0\n",
    "    \n",
    "    for i in stock_list:\n",
    "        print(\"Number: \" + str(num))\n",
    "        try:\n",
    "            predictData(i, 5)\n",
    "        except:\n",
    "            print(\"Stock: \" + i + \" was not yet predicted.\")\n",
    "        num += 1"
   ]
  },
  {
   "cell_type": "code",
   "execution_count": null,
   "id": "9ce827b4",
   "metadata": {},
   "outputs": [],
   "source": [
    "# SEND INFO TO USER\n",
    "\n",
    "def send_info(msg):\n",
    "    pass"
   ]
  },
  {
   "cell_type": "code",
   "execution_count": null,
   "id": "23c3d639",
   "metadata": {},
   "outputs": [],
   "source": [
    "# TRAIN DATA\n",
    "\n",
    "def predict_stock(stock, days):\n",
    "    print(stock)\n",
    "    \n",
    "    start = datetime(2020, 1, 1)\n",
    "    end = datetime.now()\n",
    "\n",
    "    # STORING HISTORICAL DATA IN CSV FILE\n",
    "    df = get_historical_data(stock, start = start, end = end, output_format = 'pandas')\n",
    "    \n",
    "    if os.path.exists('./Exports'):\n",
    "        csv_name = ('Exports/' + stock + '_Export.csv')\n",
    "    else:\n",
    "        os.mkdir(\"Exports\")\n",
    "        csv_name = ('Exports/' + stock + '_Export.csv')\n",
    "        \n",
    "    df.to_csv(csv_name)\n",
    "    df['prediction'] = df['close'].shift(-1)\n",
    "    df.dropna(inplace = True)\n",
    "    \n",
    "    forecast_time = int(days)\n",
    "    \n",
    "    # PREDICT IN THE FUTURE (AFTER 1/1/2020)\n",
    "    X = np.array(df.drop(['prediction'], 1))\n",
    "    Y = np.array(df['prediction'])\n",
    "    X = preprocessing.scale(X)\n",
    "    x_test = X[-forecast_time:]\n",
    "    X_train, Y_train, y_test = cross_validation.train_test_split(X, Y, test_size = 0.5)\n",
    "    \n",
    "    # USING LINEAR REGRESSION TO PREDICT THE OUTPUT\n",
    "    lr = LinearRegression()\n",
    "    lr.fit(X_train, Y_train)\n",
    "    prediction = (lr.predict(X_prediction))\n",
    "    \n",
    "    last_row = df.tail()\n",
    "    print(last_row['close'])"
   ]
  },
  {
   "cell_type": "code",
   "execution_count": null,
   "id": "d531bd5f",
   "metadata": {},
   "outputs": [],
   "source": [
    "get_stocks(20)"
   ]
  },
  {
   "cell_type": "code",
   "execution_count": null,
   "id": "9d997504",
   "metadata": {},
   "outputs": [],
   "source": []
  }
 ],
 "metadata": {
  "kernelspec": {
   "display_name": "Python 3",
   "language": "python",
   "name": "python3"
  },
  "language_info": {
   "codemirror_mode": {
    "name": "ipython",
    "version": 3
   },
   "file_extension": ".py",
   "mimetype": "text/x-python",
   "name": "python",
   "nbconvert_exporter": "python",
   "pygments_lexer": "ipython3",
   "version": "3.8.3"
  }
 },
 "nbformat": 4,
 "nbformat_minor": 5
}
