{
 "cells": [
  {
   "cell_type": "code",
   "execution_count": 17,
   "id": "02b1b1f8",
   "metadata": {},
   "outputs": [
    {
     "ename": "ImportError",
     "evalue": "cannot import name 'get_historical_data' from 'iexfinance' (C:\\Users\\Aleksa.COLORADO\\anaconda3\\lib\\site-packages\\iexfinance\\__init__.py)",
     "output_type": "error",
     "traceback": [
      "\u001b[1;31m---------------------------------------------------------------------------\u001b[0m",
      "\u001b[1;31mImportError\u001b[0m                               Traceback (most recent call last)",
      "\u001b[1;32m<ipython-input-17-ba749a865ee3>\u001b[0m in \u001b[0;36m<module>\u001b[1;34m\u001b[0m\n\u001b[0;32m      8\u001b[0m \u001b[1;32mfrom\u001b[0m \u001b[0msklearn\u001b[0m\u001b[1;33m.\u001b[0m\u001b[0mmodel_selection\u001b[0m \u001b[1;32mimport\u001b[0m \u001b[0mtrain_test_split\u001b[0m\u001b[1;33m\u001b[0m\u001b[1;33m\u001b[0m\u001b[0m\n\u001b[0;32m      9\u001b[0m \u001b[1;32mfrom\u001b[0m \u001b[0miexfinance\u001b[0m\u001b[1;33m.\u001b[0m\u001b[0mstocks\u001b[0m \u001b[1;32mimport\u001b[0m \u001b[0mStock\u001b[0m\u001b[1;33m\u001b[0m\u001b[1;33m\u001b[0m\u001b[0m\n\u001b[1;32m---> 10\u001b[1;33m \u001b[1;32mfrom\u001b[0m \u001b[0miexfinance\u001b[0m \u001b[1;32mimport\u001b[0m \u001b[0mget_historical_data\u001b[0m\u001b[1;33m\u001b[0m\u001b[1;33m\u001b[0m\u001b[0m\n\u001b[0m",
      "\u001b[1;31mImportError\u001b[0m: cannot import name 'get_historical_data' from 'iexfinance' (C:\\Users\\Aleksa.COLORADO\\anaconda3\\lib\\site-packages\\iexfinance\\__init__.py)"
     ]
    }
   ],
   "source": [
    "import numpy as np\n",
    "import smtplib\n",
    "import time\n",
    "from datetime import datetime\n",
    "from selenium import webdriver\n",
    "from sklearn.linear_model import LinearRegression\n",
    "from sklearn import preprocessing, svm\n",
    "from sklearn.model_selection import train_test_split\n",
    "from iexfinance.stocks import Stock, get_historical_data"
   ]
  }
 ],
 "metadata": {
  "kernelspec": {
   "display_name": "Python 3",
   "language": "python",
   "name": "python3"
  },
  "language_info": {
   "codemirror_mode": {
    "name": "ipython",
    "version": 3
   },
   "file_extension": ".py",
   "mimetype": "text/x-python",
   "name": "python",
   "nbconvert_exporter": "python",
   "pygments_lexer": "ipython3",
   "version": "3.8.8"
  }
 },
 "nbformat": 4,
 "nbformat_minor": 5
}
